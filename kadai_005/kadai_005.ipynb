{
  "nbformat": 4,
  "nbformat_minor": 0,
  "metadata": {
    "colab": {
      "provenance": []
    },
    "kernelspec": {
      "name": "python3",
      "display_name": "Python 3"
    },
    "language_info": {
      "name": "python"
    }
  },
  "cells": [
    {
      "cell_type": "code",
      "source": [
        "#上辺:10㎝ 下辺:20㎝  高さ:5㎝  公式:台形の面積 = (上辺 + 下辺) * 高さ ÷ 2\n",
        "\n",
        "upper = 10\n",
        "down = 20\n",
        "high = 5\n",
        "\n",
        "length = upper + down\n",
        "\n",
        "result = (length) * (high) / 2\n",
        "\n",
        "print(f\"台形の面積＝{result}cm²\")\n"
      ],
      "metadata": {
        "colab": {
          "base_uri": "https://localhost:8080/"
        },
        "id": "8l4cZneRJNc-",
        "outputId": "e9986c19-9d93-41ac-bd56-e0de0119dbdf"
      },
      "execution_count": 22,
      "outputs": [
        {
          "output_type": "stream",
          "name": "stdout",
          "text": [
            "台形の面積＝75.0cm²\n"
          ]
        }
      ]
    },
    {
      "cell_type": "code",
      "source": [],
      "metadata": {
        "id": "RX16-gI1MRz1"
      },
      "execution_count": null,
      "outputs": []
    }
  ]
}