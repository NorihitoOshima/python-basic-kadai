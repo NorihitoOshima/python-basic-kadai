{
  "nbformat": 4,
  "nbformat_minor": 0,
  "metadata": {
    "colab": {
      "provenance": []
    },
    "kernelspec": {
      "name": "python3",
      "display_name": "Python 3"
    },
    "language_info": {
      "name": "python"
    }
  },
  "cells": [
    {
      "cell_type": "code",
      "execution_count": 6,
      "metadata": {
        "id": "nYLuUBT7D7Xl",
        "colab": {
          "base_uri": "https://localhost:8080/"
        },
        "outputId": "d3088be3-80f7-477a-c7a0-c58f341dc1d3"
      },
      "outputs": [
        {
          "output_type": "stream",
          "name": "stdout",
          "text": [
            "11\n"
          ]
        }
      ],
      "source": [
        "#ランダムな整数を利用するために、randomモジュールをインポート\n",
        "import random\n",
        "\n",
        "#変数numに0～12までのランダムな整数を代入する\n",
        "var = random.randint(0,12)\n",
        "\n",
        "if var % 3 == 0:   #変数varが、3の倍数の場合は「Fizz」を出力\n",
        "    print(\"Fizz\")\n",
        "elif var % 5 == 0:  #変数varが、5の倍数の場合は「Buzz」を出力\n",
        "    print(\"Buzz\")\n",
        "elif var % 3 == 0 and var % 5 == 0:  #変数varが、3の倍数と5の倍数の両方に該当する場合は「FizzBuzz」を出力\n",
        "   print(\"FizzBuss\")\n",
        "else :\n",
        "  print(var)  #上記のどの場合にも該当しない場合は、変数varの値を出力"
      ]
    },
    {
      "cell_type": "code",
      "source": [],
      "metadata": {
        "id": "X2aXoFG6_DIt"
      },
      "execution_count": null,
      "outputs": []
    }
  ]
}