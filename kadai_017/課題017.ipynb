{
  "nbformat": 4,
  "nbformat_minor": 0,
  "metadata": {
    "colab": {
      "provenance": []
    },
    "kernelspec": {
      "name": "python3",
      "display_name": "Python 3"
    },
    "language_info": {
      "name": "python"
    }
  },
  "cells": [
    {
      "cell_type": "code",
      "source": [
        "# 名前(name)と年齢(age)の属性を持つHumanクラスを作成＆定義する\n",
        "class Human:\n",
        "  def __init__(self, name, age):\n",
        "\n",
        "    #名前と年齢の属性化\n",
        "    self.name = name\n",
        "    self.age = age\n",
        "\n",
        "  # checkadultのメソッド定義\n",
        "  def check_adult(self):\n",
        "    if self.age >= 20 :\n",
        "      print(f\"{self.name}は大人である\")\n",
        "    else:\n",
        "      print(f\"{self.name}は大人でない\")\n",
        "\n",
        "# リストの用意\n",
        "members = []\n",
        "\n",
        "#Humanクラスのインスタンスを複数生成してリストに追加\n",
        "members.append(Human(\"侍太郎\",36))\n",
        "members.append(Human(\"侍二郎\",20))\n",
        "members.append(Human(\"侍花子\",19))\n",
        "\n",
        "# リストの要素数分だけcheck_adultメソッドを呼び出す\n",
        "for member_list in members:\n",
        "  member_list. check_adult()\n"
      ],
      "metadata": {
        "colab": {
          "base_uri": "https://localhost:8080/"
        },
        "id": "2Hj0F19CL-QI",
        "outputId": "ad4c5fe0-887e-41ef-8cdd-b5511d4d38b7"
      },
      "execution_count": 7,
      "outputs": [
        {
          "output_type": "stream",
          "name": "stdout",
          "text": [
            "侍太郎は大人である\n",
            "侍二郎は大人である\n",
            "侍花子は大人でない\n"
          ]
        }
      ]
    }
  ]
}