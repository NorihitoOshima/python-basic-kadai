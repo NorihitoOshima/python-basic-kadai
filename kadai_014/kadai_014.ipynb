{
  "nbformat": 4,
  "nbformat_minor": 0,
  "metadata": {
    "colab": {
      "provenance": []
    },
    "kernelspec": {
      "name": "python3",
      "display_name": "Python 3"
    },
    "language_info": {
      "name": "python"
    }
  },
  "cells": [
    {
      "cell_type": "code",
      "source": [
        "price1 = 100\n",
        "price2 = 200\n",
        "\n",
        "#ローカルスコープの範囲内にあった変数taxをグローバルスコープに移動し定義化\n",
        "tax = 1.1\n",
        "\n",
        "def total():\n",
        "\n",
        "    return price1 + price2\n",
        "\n",
        "print (total() * tax)"
      ],
      "metadata": {
        "id": "QzpmPL-aK7kH",
        "colab": {
          "base_uri": "https://localhost:8080/"
        },
        "outputId": "b7d3f7ab-f4d2-4a9c-ef8e-f8282ef21c0a"
      },
      "execution_count": 4,
      "outputs": [
        {
          "output_type": "stream",
          "name": "stdout",
          "text": [
            "330.0\n"
          ]
        }
      ]
    },
    {
      "cell_type": "code",
      "source": [],
      "metadata": {
        "id": "o2BlZ_vzt1ol"
      },
      "execution_count": null,
      "outputs": []
    }
  ]
}