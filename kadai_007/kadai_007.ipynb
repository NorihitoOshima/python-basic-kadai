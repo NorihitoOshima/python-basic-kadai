{
  "cells": [
    {
      "cell_type": "code",
      "execution_count": null,
      "metadata": {
        "id": "93ETe-ygm4po"
      },
      "outputs": [],
      "source": []
    },
    {
      "cell_type": "code",
      "execution_count": 5,
      "metadata": {
        "colab": {
          "base_uri": "https://localhost:8080/"
        },
        "id": "-oI3Bgfp-Q6I",
        "outputId": "44873e97-871a-462a-e9b8-2299e9913ec9"
      },
      "outputs": [
        {
          "name": "stdout",
          "output_type": "stream",
          "text": [
            "水曜日は晴れです\n",
            "晴れ\n"
          ]
        }
      ],
      "source": [
        "list = [\"月曜日は晴れです\" , \"火曜日は雨です\" , \"水曜日は晴れです\" ,\n",
        "        \"木曜日は晴れです\" , \"金曜日は曇りです\" , \"土曜日は曇りのち雨です\" , \"日曜日は雷雨です\"]\n",
        "\n",
        "print(list[2])\n",
        "\n",
        "dictionary = {\"mon\":\"晴れ\" , \"tue\":\"雨\" , \"wed\":\"晴れ\" , \"thu\":\"晴れ\" , \"fri\":\"曇り\" , \"sat\":\"曇りのち雨\" , \"sun\":\"雷雨\"}\n",
        "\n",
        "print(dictionary[\"wed\"])\n",
        "\n"
      ]
    },
    {
      "cell_type": "code",
      "execution_count": null,
      "metadata": {
        "id": "11qlDL9e0J1E"
      },
      "outputs": [],
      "source": []
    }
  ],
  "metadata": {
    "colab": {
      "provenance": []
    },
    "kernelspec": {
      "display_name": "Python 3",
      "name": "python3"
    },
    "language_info": {
      "name": "python"
    }
  },
  "nbformat": 4,
  "nbformat_minor": 0
}
