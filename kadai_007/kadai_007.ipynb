{
  "cells": [
    {
      "cell_type": "code",
      "execution_count": null,
      "metadata": {
        "id": "93ETe-ygm4po"
      },
      "outputs": [],
      "source": []
    },
    {
      "cell_type": "code",
      "execution_count": null,
      "metadata": {
        "colab": {
          "base_uri": "https://localhost:8080/"
        },
        "id": "-oI3Bgfp-Q6I",
        "outputId": "7224f6de-27e2-4f73-8fc0-6c9477653c7f"
      },
      "outputs": [
        {
          "name": "stdout",
          "output_type": "stream",
          "text": [
            "['月曜日は晴れです', '火曜日は雨です', '水曜日は晴れです', '木曜日は晴れです', '金曜日は曇りです', '土曜日は曇りのち雨です', '日曜日は雷雨です']\n",
            "{'mon': '晴れ', 'tue': '雨', 'wed': '晴れ', 'thu': '晴れ', 'fri': '曇り', 'sat': '曇りのち雨', 'sun': '雷雨'}\n"
          ]
        }
      ],
      "source": [
        "list = [\"月曜日は晴れです\" , \"火曜日は雨です\" , \"水曜日は晴れです\" ,\n",
        "        \"木曜日は晴れです\" , \"金曜日は曇りです\" , \"土曜日は曇りのち雨です\" , \"日曜日は雷雨です\"]\n",
        "\n",
        "print(list)\n",
        "\n",
        "dictionary = {\"mon\":\"晴れ\" , \"tue\":\"雨\" , \"wed\":\"晴れ\" , \"thu\":\"晴れ\" , \"fri\":\"曇り\" , \"sat\":\"曇りのち雨\" , \"sun\":\"雷雨\"}\n",
        "\n",
        "print(dictionary)"
      ]
    }
  ],
  "metadata": {
    "colab": {
      "provenance": []
    },
    "kernelspec": {
      "display_name": "Python 3",
      "name": "python3"
    },
    "language_info": {
      "name": "python"
    }
  },
  "nbformat": 4,
  "nbformat_minor": 0
}
