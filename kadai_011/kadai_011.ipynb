{
  "nbformat": 4,
  "nbformat_minor": 0,
  "metadata": {
    "colab": {
      "provenance": []
    },
    "kernelspec": {
      "name": "python3",
      "display_name": "Python 3"
    },
    "language_info": {
      "name": "python"
    }
  },
  "cells": [
    {
      "cell_type": "code",
      "execution_count": 3,
      "metadata": {
        "id": "rHGhTJpCcDQf",
        "colab": {
          "base_uri": "https://localhost:8080/"
        },
        "outputId": "d069b74b-682c-4d26-fdce-761e60f88d29"
      },
      "outputs": [
        {
          "output_type": "stream",
          "name": "stdout",
          "text": [
            "水\n",
            "金\n",
            "地\n",
            "火\n",
            "木\n",
            "土\n",
            "天\n",
            "海\n",
            "冥\n",
            "水\n",
            "金\n",
            "地\n",
            "火\n",
            "木\n",
            "土\n",
            "天\n",
            "海\n",
            "冥\n"
          ]
        }
      ],
      "source": [
        "list = [\"水\",\"金\",\"地\",\"火\",\"木\",\"土\",\"天\",\"海\",\"冥\"]\n",
        "\n",
        "for value in list:\n",
        "  print(value)\n",
        "\n",
        "# 最初のループ: 各要素を1回目に出力\n",
        "index = 0\n",
        "while index < 9:  # リストの要素数が9つなので、9で固定\n",
        "    print(list[index])\n",
        "    index += 1"
      ]
    },
    {
      "cell_type": "code",
      "source": [],
      "metadata": {
        "id": "eZi64vC9K1Yg"
      },
      "execution_count": null,
      "outputs": []
    }
  ]
}