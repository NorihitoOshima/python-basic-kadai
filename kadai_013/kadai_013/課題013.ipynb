{
  "nbformat": 4,
  "nbformat_minor": 0,
  "metadata": {
    "colab": {
      "provenance": []
    },
    "kernelspec": {
      "name": "python3",
      "display_name": "Python 3"
    },
    "language_info": {
      "name": "python"
    }
  },
  "cells": [
    {
      "cell_type": "markdown",
      "source": [],
      "metadata": {
        "id": "PGKWugIfc-ka"
      }
    },
    {
      "cell_type": "code",
      "source": [
        "def calculate_total(price,tax):\n",
        "  #与えられた引数priceに消費税を乗算し、変数totalに代入する\n",
        "  total = price + (price * tax)/100\n",
        "  return total\n",
        "\n",
        "price = 500  # 商品の金額\n",
        "tax = 10  # 消費税率（10%）\n",
        "total\n",
        "\n",
        "\n"
      ],
      "metadata": {
        "colab": {
          "base_uri": "https://localhost:8080/"
        },
        "id": "hRG9gudJ72EL",
        "outputId": "d549db27-94c8-43e8-ab45-37199b257794"
      },
      "execution_count": 8,
      "outputs": [
        {
          "output_type": "execute_result",
          "data": {
            "text/plain": [
              "550.0"
            ]
          },
          "metadata": {},
          "execution_count": 8
        }
      ]
    }
  ]
}