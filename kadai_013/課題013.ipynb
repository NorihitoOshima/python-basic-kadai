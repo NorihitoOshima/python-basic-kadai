{
  "nbformat": 4,
  "nbformat_minor": 0,
  "metadata": {
    "colab": {
      "provenance": []
    },
    "kernelspec": {
      "name": "python3",
      "display_name": "Python 3"
    },
    "language_info": {
      "name": "python"
    }
  },
  "cells": [
    {
      "cell_type": "markdown",
      "source": [],
      "metadata": {
        "id": "PGKWugIfc-ka"
      }
    },
    {
      "cell_type": "markdown",
      "source": [],
      "metadata": {
        "id": "TbhjrOoyD2_U"
      }
    },
    {
      "cell_type": "code",
      "source": [
        "def calculate_total(price,tax):\n",
        "  #与えられた引数priceに消費税を乗算し、変数totalに代入する\n",
        "  total = price + (price * tax)/100\n",
        "  return total\n",
        "\n",
        "price = 500  # 商品の金額\n",
        "tax = 10  # 消費税率（10%）\n",
        "\n",
        "# calculate_total関数を呼び出してtotalを計算\n",
        "\n",
        "calculate_total\n",
        "\n",
        "# 計算結果を出力\n",
        "print(total)\n",
        "\n",
        "\n"
      ],
      "metadata": {
        "colab": {
          "base_uri": "https://localhost:8080/"
        },
        "id": "hRG9gudJ72EL",
        "outputId": "e5cdcf76-2b12-46f1-883b-88650ad9e7e2"
      },
      "execution_count": 5,
      "outputs": [
        {
          "output_type": "stream",
          "name": "stdout",
          "text": [
            "550.0\n"
          ]
        }
      ]
    }
  ]
}