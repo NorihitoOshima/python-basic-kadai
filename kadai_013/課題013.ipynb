{
  "nbformat": 4,
  "nbformat_minor": 0,
  "metadata": {
    "colab": {
      "provenance": []
    },
    "kernelspec": {
      "name": "python3",
      "display_name": "Python 3"
    },
    "language_info": {
      "name": "python"
    }
  },
  "cells": [
    {
      "cell_type": "code",
      "source": [
        "#第一引数に商品金額\n",
        "price = 500\n",
        "\n",
        "#第二引数に消費税（10%）\n",
        "tax = 1.1\n",
        "\n",
        "\n",
        "def calculate_total(price,tax):\n",
        "  #与えられた引数priceに消費税を乗算し、変数totalに代入する\n",
        "  total = price * tax\n",
        "\n",
        "  #変数totalの値を出力する\n",
        "  print(f\"{total}円\")\n",
        "\n",
        "calculate_total(price,tax)"
      ],
      "metadata": {
        "id": "4pW5R0AuCGB_",
        "colab": {
          "base_uri": "https://localhost:8080/"
        },
        "outputId": "f7da64df-3621-45fa-e2b2-1d82cc9faf4c"
      },
      "execution_count": 2,
      "outputs": [
        {
          "output_type": "stream",
          "name": "stdout",
          "text": [
            "550.0円\n"
          ]
        }
      ]
    },
    {
      "cell_type": "code",
      "source": [],
      "metadata": {
        "id": "2kA8W-zzEtqD"
      },
      "execution_count": null,
      "outputs": []
    }
  ]
}