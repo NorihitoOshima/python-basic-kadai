{
  "nbformat": 4,
  "nbformat_minor": 0,
  "metadata": {
    "colab": {
      "provenance": []
    },
    "kernelspec": {
      "name": "python3",
      "display_name": "Python 3"
    },
    "language_info": {
      "name": "python"
    }
  },
  "cells": [
    {
      "cell_type": "code",
      "execution_count": 3,
      "metadata": {
        "colab": {
          "base_uri": "https://localhost:8080/"
        },
        "id": "Nb7Ipx8WAyPG",
        "outputId": "7140ab21-c821-4a94-c937-b01df734f2e4"
      },
      "outputs": [
        {
          "output_type": "stream",
          "name": "stdout",
          "text": [
            "550.0円\n"
          ]
        }
      ],
      "source": [
        "#第一引数に商品金額\n",
        "price = 500\n",
        "\n",
        "#第二引数に消費税（10%）\n",
        "tax = 1.1\n",
        "\n",
        "\n",
        "def calculate_total():\n",
        "  #与えられた引数priceに消費税を乗算し、変数totalに代入する\n",
        "  total = price * tax\n",
        "\n",
        "  #変数totalの値を出力する\n",
        "  print(f\"{total}円\")\n",
        "\n",
        "calculate_total()"
      ]
    },
    {
      "cell_type": "code",
      "source": [],
      "metadata": {
        "id": "4pW5R0AuCGB_"
      },
      "execution_count": null,
      "outputs": []
    }
  ]
}