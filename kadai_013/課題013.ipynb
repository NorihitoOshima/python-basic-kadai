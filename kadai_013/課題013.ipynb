{
  "nbformat": 4,
  "nbformat_minor": 0,
  "metadata": {
    "colab": {
      "provenance": []
    },
    "kernelspec": {
      "name": "python3",
      "display_name": "Python 3"
    },
    "language_info": {
      "name": "python"
    }
  },
  "cells": [
    {
      "cell_type": "code",
      "source": [],
      "metadata": {
        "id": "2kA8W-zzEtqD"
      },
      "execution_count": null,
      "outputs": []
    },
    {
      "cell_type": "code",
      "source": [
        "def calculate_total(price,tax):\n",
        "  #与えられた引数priceに消費税を乗算し、変数totalに代入する\n",
        "  total = price + (price * tax)/100\n",
        "\n",
        "  #変数totalの値を出力する\n",
        "  print(f\"{total}円\")\n",
        "\n",
        "calculate_total(500,10)"
      ],
      "metadata": {
        "colab": {
          "base_uri": "https://localhost:8080/"
        },
        "outputId": "45f82b68-dbcb-48b4-94ce-dc3a6104cc13",
        "id": "w6Z446IYXGgg"
      },
      "execution_count": 6,
      "outputs": [
        {
          "output_type": "stream",
          "name": "stdout",
          "text": [
            "550.0円\n"
          ]
        }
      ]
    },
    {
      "cell_type": "code",
      "source": [],
      "metadata": {
        "id": "nvMsvEO7Zjf1"
      },
      "execution_count": null,
      "outputs": []
    }
  ]
}